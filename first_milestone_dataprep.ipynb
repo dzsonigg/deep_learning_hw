{
 "cells": [
  {
   "cell_type": "markdown",
   "metadata": {},
   "source": [
    "# Data preparation"
   ]
  },
  {
   "cell_type": "markdown",
   "metadata": {},
   "source": [
    "Team: HáLab\n",
    "\n",
    "Team members: Stumphauser Nóra, Lestyan Bence, Módos Dávid"
   ]
  },
  {
   "cell_type": "markdown",
   "metadata": {},
   "source": [
    "Import packages"
   ]
  },
  {
   "cell_type": "code",
   "execution_count": 1,
   "metadata": {},
   "outputs": [],
   "source": [
    "import numpy as np\n",
    "import matplotlib.pyplot as plt\n",
    "import pandas as pd"
   ]
  },
  {
   "cell_type": "markdown",
   "metadata": {},
   "source": [
    "Import file to pandas dataframe, and drop Loud Cover column, because it contains only 0-s."
   ]
  },
  {
   "cell_type": "code",
   "execution_count": 2,
   "metadata": {},
   "outputs": [
    {
     "data": {
      "text/html": [
       "<div>\n",
       "<style scoped>\n",
       "    .dataframe tbody tr th:only-of-type {\n",
       "        vertical-align: middle;\n",
       "    }\n",
       "\n",
       "    .dataframe tbody tr th {\n",
       "        vertical-align: top;\n",
       "    }\n",
       "\n",
       "    .dataframe thead th {\n",
       "        text-align: right;\n",
       "    }\n",
       "</style>\n",
       "<table border=\"1\" class=\"dataframe\">\n",
       "  <thead>\n",
       "    <tr style=\"text-align: right;\">\n",
       "      <th></th>\n",
       "      <th>Date</th>\n",
       "      <th>Hour</th>\n",
       "      <th>Summary</th>\n",
       "      <th>Precip Type</th>\n",
       "      <th>Temperature (C)</th>\n",
       "      <th>Apparent Temperature (C)</th>\n",
       "      <th>Humidity</th>\n",
       "      <th>Wind Speed (km/h)</th>\n",
       "      <th>Wind Bearing (degrees)</th>\n",
       "      <th>Visibility (km)</th>\n",
       "      <th>Pressure (millibars)</th>\n",
       "      <th>label</th>\n",
       "    </tr>\n",
       "  </thead>\n",
       "  <tbody>\n",
       "    <tr>\n",
       "      <th>0</th>\n",
       "      <td>2006-04-01</td>\n",
       "      <td>00:00:00.000</td>\n",
       "      <td>1</td>\n",
       "      <td>1</td>\n",
       "      <td>9.472222</td>\n",
       "      <td>7.388889</td>\n",
       "      <td>0.89</td>\n",
       "      <td>14.1197</td>\n",
       "      <td>251</td>\n",
       "      <td>15.8263</td>\n",
       "      <td>1015.13</td>\n",
       "      <td>0</td>\n",
       "    </tr>\n",
       "    <tr>\n",
       "      <th>1</th>\n",
       "      <td>2006-04-01</td>\n",
       "      <td>01:00:00.000</td>\n",
       "      <td>1</td>\n",
       "      <td>1</td>\n",
       "      <td>9.355556</td>\n",
       "      <td>7.227778</td>\n",
       "      <td>0.86</td>\n",
       "      <td>14.2646</td>\n",
       "      <td>259</td>\n",
       "      <td>15.8263</td>\n",
       "      <td>1015.63</td>\n",
       "      <td>0</td>\n",
       "    </tr>\n",
       "    <tr>\n",
       "      <th>2</th>\n",
       "      <td>2006-04-01</td>\n",
       "      <td>02:00:00.000</td>\n",
       "      <td>2</td>\n",
       "      <td>1</td>\n",
       "      <td>9.377778</td>\n",
       "      <td>9.377778</td>\n",
       "      <td>0.89</td>\n",
       "      <td>3.9284</td>\n",
       "      <td>204</td>\n",
       "      <td>14.9569</td>\n",
       "      <td>1015.94</td>\n",
       "      <td>0</td>\n",
       "    </tr>\n",
       "    <tr>\n",
       "      <th>3</th>\n",
       "      <td>2006-04-01</td>\n",
       "      <td>03:00:00.000</td>\n",
       "      <td>1</td>\n",
       "      <td>1</td>\n",
       "      <td>8.288889</td>\n",
       "      <td>5.944444</td>\n",
       "      <td>0.83</td>\n",
       "      <td>14.1036</td>\n",
       "      <td>269</td>\n",
       "      <td>15.8263</td>\n",
       "      <td>1016.41</td>\n",
       "      <td>0</td>\n",
       "    </tr>\n",
       "    <tr>\n",
       "      <th>4</th>\n",
       "      <td>2006-04-01</td>\n",
       "      <td>04:00:00.000</td>\n",
       "      <td>2</td>\n",
       "      <td>1</td>\n",
       "      <td>8.755556</td>\n",
       "      <td>6.977778</td>\n",
       "      <td>0.83</td>\n",
       "      <td>11.0446</td>\n",
       "      <td>259</td>\n",
       "      <td>15.8263</td>\n",
       "      <td>1016.51</td>\n",
       "      <td>0</td>\n",
       "    </tr>\n",
       "    <tr>\n",
       "      <th>...</th>\n",
       "      <td>...</td>\n",
       "      <td>...</td>\n",
       "      <td>...</td>\n",
       "      <td>...</td>\n",
       "      <td>...</td>\n",
       "      <td>...</td>\n",
       "      <td>...</td>\n",
       "      <td>...</td>\n",
       "      <td>...</td>\n",
       "      <td>...</td>\n",
       "      <td>...</td>\n",
       "      <td>...</td>\n",
       "    </tr>\n",
       "    <tr>\n",
       "      <th>96448</th>\n",
       "      <td>2016-09-09</td>\n",
       "      <td>19:00:00.000</td>\n",
       "      <td>1</td>\n",
       "      <td>1</td>\n",
       "      <td>26.016667</td>\n",
       "      <td>26.016667</td>\n",
       "      <td>0.43</td>\n",
       "      <td>10.9963</td>\n",
       "      <td>31</td>\n",
       "      <td>16.1000</td>\n",
       "      <td>1014.36</td>\n",
       "      <td>0</td>\n",
       "    </tr>\n",
       "    <tr>\n",
       "      <th>96449</th>\n",
       "      <td>2016-09-09</td>\n",
       "      <td>20:00:00.000</td>\n",
       "      <td>1</td>\n",
       "      <td>1</td>\n",
       "      <td>24.583333</td>\n",
       "      <td>24.583333</td>\n",
       "      <td>0.48</td>\n",
       "      <td>10.0947</td>\n",
       "      <td>20</td>\n",
       "      <td>15.5526</td>\n",
       "      <td>1015.16</td>\n",
       "      <td>0</td>\n",
       "    </tr>\n",
       "    <tr>\n",
       "      <th>96450</th>\n",
       "      <td>2016-09-09</td>\n",
       "      <td>21:00:00.000</td>\n",
       "      <td>1</td>\n",
       "      <td>1</td>\n",
       "      <td>22.038889</td>\n",
       "      <td>22.038889</td>\n",
       "      <td>0.56</td>\n",
       "      <td>8.9838</td>\n",
       "      <td>30</td>\n",
       "      <td>16.1000</td>\n",
       "      <td>1015.66</td>\n",
       "      <td>0</td>\n",
       "    </tr>\n",
       "    <tr>\n",
       "      <th>96451</th>\n",
       "      <td>2016-09-09</td>\n",
       "      <td>22:00:00.000</td>\n",
       "      <td>1</td>\n",
       "      <td>1</td>\n",
       "      <td>21.522222</td>\n",
       "      <td>21.522222</td>\n",
       "      <td>0.60</td>\n",
       "      <td>10.5294</td>\n",
       "      <td>20</td>\n",
       "      <td>16.1000</td>\n",
       "      <td>1015.95</td>\n",
       "      <td>0</td>\n",
       "    </tr>\n",
       "    <tr>\n",
       "      <th>96452</th>\n",
       "      <td>2016-09-09</td>\n",
       "      <td>23:00:00.000</td>\n",
       "      <td>1</td>\n",
       "      <td>1</td>\n",
       "      <td>20.438889</td>\n",
       "      <td>20.438889</td>\n",
       "      <td>0.61</td>\n",
       "      <td>5.8765</td>\n",
       "      <td>39</td>\n",
       "      <td>15.5204</td>\n",
       "      <td>1016.16</td>\n",
       "      <td>0</td>\n",
       "    </tr>\n",
       "  </tbody>\n",
       "</table>\n",
       "<p>96453 rows × 12 columns</p>\n",
       "</div>"
      ],
      "text/plain": [
       "            Date          Hour  Summary  Precip Type  Temperature (C)  \\\n",
       "0     2006-04-01  00:00:00.000        1            1         9.472222   \n",
       "1     2006-04-01  01:00:00.000        1            1         9.355556   \n",
       "2     2006-04-01  02:00:00.000        2            1         9.377778   \n",
       "3     2006-04-01  03:00:00.000        1            1         8.288889   \n",
       "4     2006-04-01  04:00:00.000        2            1         8.755556   \n",
       "...          ...           ...      ...          ...              ...   \n",
       "96448 2016-09-09  19:00:00.000        1            1        26.016667   \n",
       "96449 2016-09-09  20:00:00.000        1            1        24.583333   \n",
       "96450 2016-09-09  21:00:00.000        1            1        22.038889   \n",
       "96451 2016-09-09  22:00:00.000        1            1        21.522222   \n",
       "96452 2016-09-09  23:00:00.000        1            1        20.438889   \n",
       "\n",
       "       Apparent Temperature (C)  Humidity  Wind Speed (km/h)  \\\n",
       "0                      7.388889      0.89            14.1197   \n",
       "1                      7.227778      0.86            14.2646   \n",
       "2                      9.377778      0.89             3.9284   \n",
       "3                      5.944444      0.83            14.1036   \n",
       "4                      6.977778      0.83            11.0446   \n",
       "...                         ...       ...                ...   \n",
       "96448                 26.016667      0.43            10.9963   \n",
       "96449                 24.583333      0.48            10.0947   \n",
       "96450                 22.038889      0.56             8.9838   \n",
       "96451                 21.522222      0.60            10.5294   \n",
       "96452                 20.438889      0.61             5.8765   \n",
       "\n",
       "       Wind Bearing (degrees)  Visibility (km)  Pressure (millibars)  label  \n",
       "0                         251          15.8263               1015.13      0  \n",
       "1                         259          15.8263               1015.63      0  \n",
       "2                         204          14.9569               1015.94      0  \n",
       "3                         269          15.8263               1016.41      0  \n",
       "4                         259          15.8263               1016.51      0  \n",
       "...                       ...              ...                   ...    ...  \n",
       "96448                      31          16.1000               1014.36      0  \n",
       "96449                      20          15.5526               1015.16      0  \n",
       "96450                      30          16.1000               1015.66      0  \n",
       "96451                      20          16.1000               1015.95      0  \n",
       "96452                      39          15.5204               1016.16      0  \n",
       "\n",
       "[96453 rows x 12 columns]"
      ]
     },
     "execution_count": 2,
     "metadata": {},
     "output_type": "execute_result"
    }
   ],
   "source": [
    "data = pd.read_excel(\"weather_data.xlsx\")\n",
    "data = data.drop(['Loud Cover'], axis=1)\n",
    "data"
   ]
  },
  {
   "cell_type": "markdown",
   "metadata": {},
   "source": [
    "The number of rows:"
   ]
  },
  {
   "cell_type": "code",
   "execution_count": 3,
   "metadata": {},
   "outputs": [
    {
     "data": {
      "text/plain": [
       "96453"
      ]
     },
     "execution_count": 3,
     "metadata": {},
     "output_type": "execute_result"
    }
   ],
   "source": [
    "len(data)"
   ]
  },
  {
   "cell_type": "markdown",
   "metadata": {},
   "source": [
    "We realize that there are some days, where the data contains 21, 23 or 25 rows. In this case we decided to delete these days for those where there isn't 24 rows, and we delete the duplicates where there are 25 rows. In the last case in all appearaces were at the 2:00 hour, so we delete one of them."
   ]
  },
  {
   "cell_type": "code",
   "execution_count": 4,
   "metadata": {},
   "outputs": [
    {
     "name": "stdout",
     "output_type": "stream",
     "text": [
      "Error:  23  at number :  5543 day:  2006-03-26 00:00:00\n",
      "Error:  25  at number :  7824 day:  2006-10-29 00:00:00\n",
      "Error:  23  at number :  14303 day:  2007-03-25 00:00:00\n",
      "Error:  25  at number :  16584 day:  2007-10-28 00:00:00\n",
      "Error:  23  at number :  23231 day:  2008-03-30 00:00:00\n",
      "Error:  25  at number :  25320 day:  2008-10-26 00:00:00\n",
      "Error:  23  at number :  31943 day:  2009-03-29 00:00:00\n",
      "Error:  25  at number :  34056 day:  2009-10-25 00:00:00\n",
      "Error:  23  at number :  40679 day:  2010-03-28 00:00:00\n",
      "Error:  25  at number :  42984 day:  2010-10-31 00:00:00\n",
      "Error:  23  at number :  49415 day:  2011-03-27 00:00:00\n",
      "Error:  25  at number :  51720 day:  2011-10-30 00:00:00\n",
      "Error:  23  at number :  58151 day:  2012-03-25 00:00:00\n",
      "Error:  25  at number :  60432 day:  2012-10-28 00:00:00\n",
      "Error:  23  at number :  67079 day:  2013-03-31 00:00:00\n",
      "Error:  25  at number :  69168 day:  2013-10-27 00:00:00\n",
      "Error:  21  at number :  73917 day:  2014-07-14 00:00:00\n",
      "Error:  23  at number :  75812 day:  2014-03-30 00:00:00\n",
      "Error:  25  at number :  77901 day:  2014-10-26 00:00:00\n",
      "Error:  23  at number :  84524 day:  2015-03-29 00:00:00\n",
      "Error:  25  at number :  86637 day:  2015-10-25 00:00:00\n",
      "Error:  23  at number :  93260 day:  2016-03-27 00:00:00\n",
      "Error:  25  at number :  95565 day:  2016-10-30 00:00:00\n",
      "549 23\n"
     ]
    }
   ],
   "source": [
    "n = 1\n",
    "miss = 0\n",
    "miss_num = 0\n",
    "for i in range(1,len(data)):\n",
    "    if data['Date'][i] == data['Date'][i-1]:\n",
    "        n += 1\n",
    "    else:\n",
    "        if n != 24:\n",
    "            print(\"Error: \", n, \" at number : \", i, \"day: \", data['Date'][i-1])\n",
    "            miss += n\n",
    "            miss_num += 1\n",
    "        n = 1\n",
    "print(miss, miss_num)"
   ]
  },
  {
   "cell_type": "code",
   "execution_count": 5,
   "metadata": {},
   "outputs": [],
   "source": [
    "data = data.drop(7801)\n",
    "data = data.drop(16561)\n",
    "data = data.drop(25297)\n",
    "data = data.drop(34033)\n",
    "data = data.drop(42961)\n",
    "data = data.drop(51697)\n",
    "data = data.drop(60409)\n",
    "data = data.drop(69145)\n",
    "data = data.drop(77878)\n",
    "data = data.drop(86614)\n",
    "data = data.drop(95542)"
   ]
  },
  {
   "cell_type": "code",
   "execution_count": 6,
   "metadata": {},
   "outputs": [],
   "source": [
    "data = data[data.Date != '2006-03-26']\n",
    "data = data[data.Date != '2007-03-25']\n",
    "data = data[data.Date != '2008-03-30']\n",
    "data = data[data.Date != '2009-03-29']\n",
    "data = data[data.Date != '2010-03-28']\n",
    "data = data[data.Date != '2011-03-27']\n",
    "data = data[data.Date != '2011-09-12']\n",
    "data = data[data.Date != '2012-03-25']\n",
    "data = data[data.Date != '2013-03-31']\n",
    "data = data[data.Date != '2014-07-14']\n",
    "data = data[data.Date != '2014-03-30']\n",
    "data = data[data.Date != '2015-03-29']\n",
    "data = data[data.Date != '2016-03-27']\n",
    "data = data[data.Date != '2010-08-02']"
   ]
  },
  {
   "cell_type": "code",
   "execution_count": 7,
   "metadata": {},
   "outputs": [],
   "source": [
    "data = data.reset_index(drop=True)"
   ]
  },
  {
   "cell_type": "markdown",
   "metadata": {},
   "source": [
    "We check again if there is still wrong row."
   ]
  },
  {
   "cell_type": "code",
   "execution_count": 8,
   "metadata": {},
   "outputs": [
    {
     "name": "stdout",
     "output_type": "stream",
     "text": [
      "0 0\n"
     ]
    }
   ],
   "source": [
    "n = 1\n",
    "miss = 0\n",
    "miss_num = 0\n",
    "for i in range(1,len(data)):\n",
    "    if data['Date'][i] == data['Date'][i-1]:\n",
    "        n += 1\n",
    "    else:\n",
    "        if n != 24:\n",
    "            print(\"Error: \", n, \" at number: \", i, \"day: \", ido['Date'][i-1])\n",
    "            miss += n\n",
    "            miss_num += 1\n",
    "        n = 1\n",
    "print(miss_num, miss)"
   ]
  },
  {
   "cell_type": "markdown",
   "metadata": {},
   "source": [
    "We create binary label from the Temperature value. We decided to divide the data into two groups, one day got label 1 if the mean of temperature is higher than 12,25 on that day, else it is 0. This case we got balanced data.\n",
    "\n",
    "Number of days with label 1: 2002\n",
    "\n",
    "Number of days with label 0: 2002"
   ]
  },
  {
   "cell_type": "code",
   "execution_count": 9,
   "metadata": {},
   "outputs": [
    {
     "data": {
      "text/plain": [
       "12.252546296296256"
      ]
     },
     "execution_count": 9,
     "metadata": {},
     "output_type": "execute_result"
    }
   ],
   "source": [
    "data.groupby('Date')['Temperature (C)'].mean().median()"
   ]
  },
  {
   "cell_type": "code",
   "execution_count": 10,
   "metadata": {},
   "outputs": [
    {
     "name": "stdout",
     "output_type": "stream",
     "text": [
      "2002 2002\n"
     ]
    }
   ],
   "source": [
    "import numpy as np\n",
    "days = []\n",
    "for i in data.groupby('Date')['Temperature (C)'].mean():\n",
    "    if i > 12.25:\n",
    "        days.append(1)\n",
    "    else:\n",
    "        days.append(0)\n",
    "print(days.count(1), days.count(0))"
   ]
  },
  {
   "cell_type": "markdown",
   "metadata": {},
   "source": [
    "For later usage we create label.csv file, which contains each day with its label."
   ]
  },
  {
   "cell_type": "code",
   "execution_count": 11,
   "metadata": {},
   "outputs": [],
   "source": [
    "date = data.Date.unique()\n",
    "df2 = pd.DataFrame({'date':date, 'label':days})\n",
    "df2.to_csv('label.csv')"
   ]
  },
  {
   "cell_type": "markdown",
   "metadata": {},
   "source": [
    "In this step we realize that there is a day that is twice in the data, so we find the serial number of it, and we delete that date also above. "
   ]
  },
  {
   "cell_type": "code",
   "execution_count": 12,
   "metadata": {},
   "outputs": [],
   "source": [
    "k=1\n",
    "for i in data.groupby('Date')['Temperature (C)'].count():\n",
    "    if i != 24:\n",
    "        print(i,k)\n",
    "    k+=1"
   ]
  },
  {
   "cell_type": "markdown",
   "metadata": {},
   "source": [
    "For prediction and for the neural networks we should drop the columns which contains information about temperature. If we left these in the data the neural networks could easily learn them. Our goal is to find difference between simple classifiers and neural networks so we save the data into another csv which would be the base of the classifiers."
   ]
  },
  {
   "cell_type": "code",
   "execution_count": 13,
   "metadata": {},
   "outputs": [],
   "source": [
    "data = data.drop(['Temperature (C)'], axis=1)\n",
    "data = data.drop(['Apparent Temperature (C)'], axis=1)\n",
    "col = data.columns[2:9]\n",
    "data.to_csv('data_clf.csv')"
   ]
  },
  {
   "cell_type": "markdown",
   "metadata": {},
   "source": [
    "For creating images we should convert each value in each column to 0-255. For this we use min-max scaling, and multiply it by 255."
   ]
  },
  {
   "cell_type": "code",
   "execution_count": 14,
   "metadata": {},
   "outputs": [
    {
     "name": "stdout",
     "output_type": "stream",
     "text": [
      "Summary\n"
     ]
    },
    {
     "name": "stderr",
     "output_type": "stream",
     "text": [
      "<ipython-input-14-13a238355a5b>:6: SettingWithCopyWarning: \n",
      "A value is trying to be set on a copy of a slice from a DataFrame\n",
      "\n",
      "See the caveats in the documentation: https://pandas.pydata.org/pandas-docs/stable/user_guide/indexing.html#returning-a-view-versus-a-copy\n",
      "  data[j][i] = (data[j][i]-mini)/(maxi-mini)*255\n"
     ]
    },
    {
     "name": "stdout",
     "output_type": "stream",
     "text": [
      "Precip Type\n",
      "Humidity\n",
      "Wind Speed (km/h)\n",
      "Wind Bearing (degrees)\n",
      "Visibility (km)\n",
      "Pressure (millibars)\n"
     ]
    }
   ],
   "source": [
    "for j in col:\n",
    "    print(j)\n",
    "    mini = np.min(data[j])\n",
    "    maxi = np.max(data[j])\n",
    "    for i in range(len(data)):   \n",
    "        data[j][i] = (data[j][i]-mini)/(maxi-mini)*255   "
   ]
  },
  {
   "cell_type": "markdown",
   "metadata": {},
   "source": [
    "Number of images is equal to number of days:"
   ]
  },
  {
   "cell_type": "code",
   "execution_count": 15,
   "metadata": {},
   "outputs": [
    {
     "data": {
      "text/plain": [
       "4004"
      ]
     },
     "execution_count": 15,
     "metadata": {},
     "output_type": "execute_result"
    }
   ],
   "source": [
    "data['Date'].nunique()"
   ]
  },
  {
   "cell_type": "markdown",
   "metadata": {},
   "source": [
    "We create a 3D-array, each image is 7x24 and we have 4004 images. We go through the data, and until it is the same day we put the rows into the day's numpy array."
   ]
  },
  {
   "cell_type": "code",
   "execution_count": 16,
   "metadata": {},
   "outputs": [
    {
     "name": "stdout",
     "output_type": "stream",
     "text": [
      "1000\n",
      "2000\n",
      "3000\n",
      "4000\n"
     ]
    }
   ],
   "source": [
    "zero = np.zeros([4004,7,24])\n",
    "d = 0\n",
    "k = 0\n",
    "for i in range(1,len(data)):\n",
    "    if data['Date'][i] == data['Date'][i-1]:\n",
    "        zero[d,:,k] = np.array(data.iloc[i-1,2:9])\n",
    "        k+=1\n",
    "    else:\n",
    "        zero[d,:,k] = np.array(data.iloc[i-1,2:9])\n",
    "        k = 0\n",
    "        d+=1\n",
    "        if d %1000 == 0:\n",
    "            print(d)"
   ]
  },
  {
   "cell_type": "markdown",
   "metadata": {},
   "source": [
    "Here is an example of the created images:"
   ]
  },
  {
   "cell_type": "code",
   "execution_count": 17,
   "metadata": {},
   "outputs": [
    {
     "data": {
      "text/plain": [
       "<matplotlib.image.AxesImage at 0x14e176dd790>"
      ]
     },
     "execution_count": 17,
     "metadata": {},
     "output_type": "execute_result"
    },
    {
     "data": {
      "image/png": "[encoded data removed]",
      "text/plain": [
       "<Figure size 432x288 with 1 Axes>"
      ]
     },
     "metadata": {
      "needs_background": "light"
     },
     "output_type": "display_data"
    }
   ],
   "source": [
    "plt.imshow(zero[1155,:,:])"
   ]
  },
  {
   "cell_type": "code",
   "execution_count": 18,
   "metadata": {},
   "outputs": [
    {
     "data": {
      "text/plain": [
       "4004"
      ]
     },
     "execution_count": 18,
     "metadata": {},
     "output_type": "execute_result"
    }
   ],
   "source": [
    "len(zero)"
   ]
  },
  {
   "cell_type": "markdown",
   "metadata": {},
   "source": [
    "We use the above label.csv file, it was copied from another notebook, that's why it is again a csv loading."
   ]
  },
  {
   "cell_type": "code",
   "execution_count": 19,
   "metadata": {},
   "outputs": [],
   "source": [
    "label = pd.read_csv('label.csv')\n",
    "label = label.drop(label.columns[0], axis = 1)"
   ]
  },
  {
   "cell_type": "markdown",
   "metadata": {},
   "source": [
    "Creating train, valid and test sets:\n",
    "\n",
    "We make 70% train set, 15% validation set and 15% test set."
   ]
  },
  {
   "cell_type": "code",
   "execution_count": 20,
   "metadata": {},
   "outputs": [],
   "source": [
    "from sklearn.model_selection import train_test_split"
   ]
  },
  {
   "cell_type": "code",
   "execution_count": 21,
   "metadata": {},
   "outputs": [],
   "source": [
    "x_train, x_test, y_train, y_test = train_test_split(zero, label['label'], test_size=0.30, random_state=42)"
   ]
  },
  {
   "cell_type": "code",
   "execution_count": 22,
   "metadata": {},
   "outputs": [],
   "source": [
    "x_valid, x_test, y_valid, y_test = train_test_split(x_test, y_test, test_size=0.50, random_state=42)"
   ]
  },
  {
   "cell_type": "code",
   "execution_count": 23,
   "metadata": {},
   "outputs": [
    {
     "name": "stdout",
     "output_type": "stream",
     "text": [
      "2802 601 601\n"
     ]
    }
   ],
   "source": [
    "print(len(x_train), len(x_valid), len(x_test))"
   ]
  },
  {
   "cell_type": "code",
   "execution_count": 24,
   "metadata": {},
   "outputs": [
    {
     "name": "stdout",
     "output_type": "stream",
     "text": [
      "2802 601 601\n"
     ]
    }
   ],
   "source": [
    "print(len(y_train), len(y_valid), len(y_test))"
   ]
  },
  {
   "cell_type": "code",
   "execution_count": 25,
   "metadata": {},
   "outputs": [
    {
     "data": {
      "text/plain": [
       "(2802, 7, 24)"
      ]
     },
     "execution_count": 25,
     "metadata": {},
     "output_type": "execute_result"
    }
   ],
   "source": [
    "x_train.shape"
   ]
  },
  {
   "cell_type": "code",
   "execution_count": 26,
   "metadata": {},
   "outputs": [
    {
     "data": {
      "text/plain": [
       "(2802,)"
      ]
     },
     "execution_count": 26,
     "metadata": {},
     "output_type": "execute_result"
    }
   ],
   "source": [
    "y_train.shape"
   ]
  },
  {
   "cell_type": "code",
   "execution_count": 27,
   "metadata": {},
   "outputs": [],
   "source": [
    "np.save('images.npy', zero)"
   ]
  }
 ],
 "metadata": {
  "kernelspec": {
   "display_name": "Python 3",
   "language": "python",
   "name": "python3"
  },
  "language_info": {
   "codemirror_mode": {
    "name": "ipython",
    "version": 3
   },
   "file_extension": ".py",
   "mimetype": "text/x-python",
   "name": "python",
   "nbconvert_exporter": "python",
   "pygments_lexer": "ipython3",
   "version": "3.8.3"
  }
 },
 "nbformat": 4,
 "nbformat_minor": 4
}
